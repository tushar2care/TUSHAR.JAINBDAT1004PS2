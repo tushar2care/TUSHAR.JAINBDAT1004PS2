{
 "cells": [
  {
   "cell_type": "markdown",
   "id": "619eb554",
   "metadata": {},
   "source": [
    "# Ans 1"
   ]
  },
  {
   "cell_type": "code",
   "execution_count": 2,
   "id": "79c4b1e6",
   "metadata": {},
   "outputs": [
    {
     "name": "stdout",
     "output_type": "stream",
     "text": [
      "6\n"
     ]
    }
   ],
   "source": [
    "a = 0\n",
    "\n",
    "def b():\n",
    "  global a\n",
    "  a = c(a)\n",
    "\n",
    "def c(a):\n",
    "  return a + 2\n",
    "\n",
    "b()  # This calls the function b and then it calls function c which increments the value of a by 2.Hence, a becomes 2.\n",
    "b()  # This again calls the function b and then it calls function c which increments the value of a by 2.Hence, a becomes 4.\n",
    "b()  # This again calls the function b and then it calls function c which increments the value of a by 2.Hence, a becomes 6.\n",
    "print(a) # This line will print 6 because the global variable is not in a particular block."
   ]
  },
  {
   "cell_type": "markdown",
   "id": "14fb1bea",
   "metadata": {},
   "source": [
    "# Ans 2"
   ]
  },
  {
   "cell_type": "code",
   "execution_count": 11,
   "id": "43d61b08",
   "metadata": {},
   "outputs": [
    {
     "name": "stdout",
     "output_type": "stream",
     "text": [
      "File known as \"file.txt\"not found.\n"
     ]
    }
   ],
   "source": [
    "def file_length(f_name):\n",
    "    try:\n",
    "      file = open(f_name)\n",
    "      cont = file.read()\n",
    "      file.close()\n",
    "      print(len(cont))\n",
    "    except:\n",
    "      print('File known as \"' + f_name + '\"not found.')\n",
    "   \n",
    "\n",
    "file_length('file.txt')"
   ]
  },
  {
   "cell_type": "markdown",
   "id": "256becdf",
   "metadata": {},
   "source": [
    "# Ans 3"
   ]
  },
  {
   "cell_type": "code",
   "execution_count": 4,
   "id": "95034ff3",
   "metadata": {},
   "outputs": [
    {
     "name": "stdout",
     "output_type": "stream",
     "text": [
      "I am a Kangaroo located at coordinates (0,0)\n",
      "['doll', 'firetruck', 'kitten']\n",
      "I am a Kangaroo located at coordinates (3,0)\n"
     ]
    }
   ],
   "source": [
    "class Marsupial:\n",
    "  values = []\n",
    "\n",
    "  def put_in_pouch(self, value):\n",
    "    self.values.append(value)\n",
    "\n",
    "  def pouch_contents(self):\n",
    "    print(self.values)\n",
    "\n",
    "class Kangaroo(Marsupial):\n",
    "  x = 0\n",
    "  y = 0\n",
    "\n",
    "  def __init__(self, x, y):\n",
    "    self.x = x\n",
    "    self.y = y \n",
    "\n",
    "  def jump(self, dx, dy):\n",
    "    self.x += dx\n",
    "    self.y += dy   \n",
    "\n",
    "  def __str__(self):\n",
    "      return 'I am a Kangaroo located at coordinates ('+ str(self.x) +','+ str(self.y) +')'\n",
    "\n",
    "t = Kangaroo(0, 0)\n",
    "print(t)\n",
    "t.put_in_pouch('doll')\n",
    "t.put_in_pouch('firetruck')\n",
    "t.put_in_pouch('kitten')\n",
    "t.pouch_contents()\n",
    "t.jump(1, 0)\n",
    "t.jump(1, 0)\n",
    "t.jump(1, 0)\n",
    "print(t)"
   ]
  },
  {
   "cell_type": "markdown",
   "id": "72d4e763",
   "metadata": {},
   "source": [
    "# Ans 4"
   ]
  },
  {
   "cell_type": "code",
   "execution_count": 5,
   "id": "f3ad9beb",
   "metadata": {},
   "outputs": [
    {
     "name": "stdout",
     "output_type": "stream",
     "text": [
      "10\n",
      "5\n",
      "16\n",
      "8\n",
      "4\n",
      "2\n",
      "1\n"
     ]
    }
   ],
   "source": [
    "t = 0\n",
    "\n",
    "def collatz(x):\n",
    "   global t\n",
    "   print(x)\n",
    "   t += 1\n",
    "   if x==1:\n",
    "     return \n",
    "   if x % 2 == 0:\n",
    "     return collatz((x // 2))\n",
    "   if x % 2 == 1:\n",
    "     return collatz(((x * 3) + 1))\n",
    "\n",
    "collatz(10)"
   ]
  },
  {
   "cell_type": "markdown",
   "id": "d43b74cc",
   "metadata": {},
   "source": [
    "# Ans 5 "
   ]
  },
  {
   "cell_type": "code",
   "execution_count": 6,
   "id": "5d77b8d3",
   "metadata": {},
   "outputs": [
    {
     "name": "stdout",
     "output_type": "stream",
     "text": [
      "1001"
     ]
    }
   ],
   "source": [
    "def binary(n):\n",
    "   if n < 2:\n",
    "    print(int(n), end = '')\n",
    "   else:\n",
    "     binary(n / 2)\n",
    "     print(int(n % 2), end = '')\n",
    "\n",
    "binary(9)"
   ]
  },
  {
   "cell_type": "markdown",
   "id": "ba42d26d",
   "metadata": {},
   "source": [
    "# Ans 6 "
   ]
  },
  {
   "cell_type": "code",
   "execution_count": 7,
   "id": "f9415cde",
   "metadata": {},
   "outputs": [
    {
     "name": "stdout",
     "output_type": "stream",
     "text": [
      "W3C Mission \n",
      "    Principles\n",
      "Tushar Jain\n",
      "\n"
     ]
    }
   ],
   "source": [
    "from html.parser import HTMLParser\n",
    "\n",
    "class HeadingParser(HTMLParser):\n",
    "\n",
    "  def __init__(self):\n",
    "        HTMLParser.__init__(self)\n",
    "        self.inLink = False\n",
    "        self.dataArray = []\n",
    "        self.countLanguages = 0\n",
    "        self.lasttag = None\n",
    "        self.lastname = None\n",
    "        self.lastvalue = None\n",
    "\n",
    "  def handle_starttag(self, tag, attrs):\n",
    "        self.inLink = False\n",
    "        if tag == 'h1' or tag == 'h2' or tag == 'h3' or tag == 'h4' or tag == 'h5' or tag == 'h6':\n",
    "           self.countLanguages += 1\n",
    "           self.inLink = True\n",
    "           self.lasttag = tag\n",
    "\n",
    "  def handle_endtag(self, tag):\n",
    "        if tag == \"h1\" or tag == \"h2\" or tag == \"h3\" or tag == \"h4\" or tag == \"h5\" or tag == \"h6\":\n",
    "            self.inlink = False\n",
    "\n",
    "  def handle_data(self, data):\n",
    "        if self.lasttag == 'h1' or self.lasttag == 'h2' or self.lasttag == 'h3' or self.lasttag == 'h4' or self.lasttag == 'h5' or self.lasttag == 'h6' and self.inLink and data.strip():\n",
    "            print(data, end = \"\")\n",
    "\n",
    "\n",
    "\n",
    "infile = open('w3c.html')\n",
    "content = infile.read()\n",
    "infile.close()\n",
    "hp = HeadingParser()\n",
    "hp.feed(content)"
   ]
  },
  {
   "cell_type": "markdown",
   "id": "4a7bc0ad",
   "metadata": {},
   "source": [
    "#  Ans 7"
   ]
  },
  {
   "cell_type": "code",
   "execution_count": null,
   "id": "32184137",
   "metadata": {},
   "outputs": [],
   "source": [
    "from urllib.request import urljoin\n",
    "from bs4 import BeautifulSoup\n",
    "import requests\n",
    "from urllib.request import urlparse\n",
    "\n",
    "def webdir(url, depth, indent):\n",
    "    temp_url = set()\n",
    "    currenturl_domain = urlparse(url).netloc\n",
    "    beautifulsoup_object = BeautifulSoup(\n",
    "    requests.get(url).content, \"lxml\")\n",
    "\n",
    "    for tj in beautifulsoup_object.findAll(\"a\"):\n",
    "        href = tj.attrs.get(\"href\")\n",
    "        if(href != \"\" or href != None):\n",
    "            href = urljoin(url, href)\n",
    "            href_parsed = urlparse(href)\n",
    "            href = href_parsed.scheme\n",
    "            href += \"://\"\n",
    "            href += href_parsed.netloc\n",
    "            href += href_parsed.path\n",
    "            finalparsed_href = urlparse(href)\n",
    "            is_valid = bool(finalparsed_href.scheme) and bool(\n",
    "                finalparsed_href.netloc)\n",
    "            if is_valid:\n",
    "                if currenturl_domain not in href and href not in link_ex:\n",
    "                    print(href)\n",
    "                    link_ex.add(href)\n",
    "                if currenturl_domain in href and href not in link_in:\n",
    "                print(href)\n",
    "                    link_in.add(href)\n",
    "                    temp_url.add(href)\n",
    "    return temp_url\n",
    "\n",
    "\n",
    "link_in = set()\n",
    "url = \"http://reed.cs.depaul.edu/lperkovic/csc242/test1.html\"\n",
    "depth = 1\n",
    "link_ex = set()\n",
    "\n",
    "if(depth == 0):\n",
    "    print(url)\n",
    "\n",
    "elif(depth == 1):\n",
    "    webdir(url, depth, 0)\n",
    "\n",
    "else:\n",
    "    queue = []\n",
    "    queue.append(url)\n",
    "    for t in range(depth):\n",
    "        for count in range(len(queue)):\n",
    "            urll = queue.pop(0)\n",
    "            urls = webdir(urll, depth, 0)\n",
    "            for a in urls:\n",
    "                queue.append(s)"
   ]
  },
  {
   "cell_type": "markdown",
   "id": "a3e19d66",
   "metadata": {},
   "source": [
    "# Ans 8"
   ]
  },
  {
   "cell_type": "code",
   "execution_count": 9,
   "id": "e458e282",
   "metadata": {},
   "outputs": [
    {
     "name": "stdout",
     "output_type": "stream",
     "text": [
      "(24.8,)(28.4,)(27.9,)(27.6,)(4.2,)(8.3,)(15.7,)(10.4,)(13.6,)(20.7,)(27.7,)(22.2,)\n",
      "('Mumbai',)('London',)('Cairo',)\n",
      "('Mumbai', 'India', 'Winter', 24.8, 5.9)('Mumbai', 'India', 'Spring', 28.4, 16.2)('Mumbai', 'India', 'Summer', 27.9, 1549.4)('Mumbai', 'India', 'Fall', 27.6, 346)\n",
      "('Mumbai', 'India', 'Fall', 27.6, 346)('London', 'United Kingdom', 'Fall', 10.4, 218.5)('Cairo', 'Egypt', 'Fall', 22.2, 4.5)\n",
      "('Mumbai', 'India', 'Fall')('London', 'United Kingdom', 'Winter')('London', 'United Kingdom', 'Fall')\n",
      "('Cairo', 'Egypt')('Mumbai', 'India')\n",
      "(27.6,)\n",
      "('Fall', 569.0)('Spring', 192.29999999999998)('Summer', 1706.5)('Winter', 230.1)"
     ]
    }
   ],
   "source": [
    "import sqlite3\n",
    "\n",
    "conn = sqlite3.connect('tushar_jain.db')\n",
    "\n",
    "conn.execute('''\n",
    "CREATE TABLE IF NOT EXISTS field(city text, \n",
    "                      country text, \n",
    "                      season integer, \n",
    "                      temperature integer,\n",
    "                      rainfall integer);''')\n",
    "\n",
    "conn.commit()\n",
    "\n",
    "mycursor = conn.cursor()\n",
    "\n",
    "conn.execute(\"INSERT INTO field VALUES('Mumbai', 'India', 'Winter', 24.8, 5.9);\")\n",
    "conn.execute(\"INSERT INTO field VALUES('Mumbai', 'India', 'Spring', 28.4, 16.2);\")\n",
    "conn.execute(\"INSERT INTO field VALUES('Mumbai', 'India', 'Summer', 27.9, 1549.4);\")\n",
    "conn.execute(\"INSERT INTO field VALUES('Mumbai', 'India', 'Fall', 27.6, 346.0);\")\n",
    "conn.execute(\"INSERT INTO field VALUES('London', 'United Kingdom', 'Winter', 4.2, 207.7);\")\n",
    "conn.execute(\"INSERT INTO field VALUES('London', 'United Kingdom', 'Spring', 8.3, 169.6 );\")\n",
    "conn.execute(\"INSERT INTO field VALUES('London', 'United Kingdom', 'Summer', 15.7, 157.0);\")\n",
    "conn.execute(\"INSERT INTO field VALUES('London', 'United Kingdom', 'Fall', 10.4, 218.5);\")\n",
    "conn.execute(\"INSERT INTO field VALUES('Cairo', 'Egypt', 'Winter', 13.6, 16.5);\")\n",
    "conn.execute(\"INSERT INTO field VALUES('Cairo', 'Egypt', 'Spring', 20.7, 6.5);\")\n",
    "conn.execute(\"INSERT INTO field VALUES('Cairo', 'Egypt', 'Summer', 27.7, 0.1);\")\n",
    "conn.execute(\"INSERT INTO field VALUES('Cairo', 'Egypt', 'Fall', 22.2, 4.5);\")\n",
    "\n",
    "mycursor.execute(\"SELECT temperature from field\")\n",
    "myresult = mycursor.fetchall()\n",
    "for x in myresult:\n",
    "  print(x, end=\"\")\n",
    "\n",
    "print()\n",
    "mycursor.execute(\"SELECT DISTINCT(city) from field\")\n",
    "myresult = mycursor.fetchall()\n",
    "for x in myresult:\n",
    "  print(x, end=\"\")\n",
    "\n",
    "print()\n",
    "mycursor.execute(\"SELECT * from field where country = 'India'\")\n",
    "myresult = mycursor.fetchall()\n",
    "for x in myresult:\n",
    "  print(x, end=\"\")\n",
    "\n",
    "\n",
    "print()\n",
    "mycursor.execute(\"SELECT * from field where season = 'Fall'\")\n",
    "myresult = mycursor.fetchall()\n",
    "for x in myresult:\n",
    "  print(x, end=\"\")\n",
    "\n",
    "print()\n",
    "mycursor.execute(\"SELECT city,country,season from field where rainfall BETWEEN 200 and 400\")\n",
    "myresult = mycursor.fetchall()\n",
    "for x in myresult:\n",
    "  print(x, end=\"\")\n",
    "\n",
    "print()\n",
    "mycursor.execute(\"SELECT city,country from field where (season = 'Fall' and temperature > 20) Order BY temperature ASC \")\n",
    "myresult = mycursor.fetchall()\n",
    "for x in myresult:\n",
    "  print(x, end=\"\")\n",
    "\n",
    "print()\n",
    "mycursor.execute(\"SELECT sum(rainfall) from field where city = 'Cairo'\")\n",
    "myresult = mycursor.fetchall()\n",
    "for x in myresult:\n",
    "  print(x, end=\"\")\n",
    "\n",
    "print()\n",
    "mycursor.execute(\"SELECT season, sum(rainfall) from field group by season\")\n",
    "myresult = mycursor.fetchall()\n",
    "for x in myresult:\n",
    "  print(x, end=\"\")\n",
    "\n",
    "conn.close()"
   ]
  },
  {
   "cell_type": "markdown",
   "id": "954dc986",
   "metadata": {},
   "source": [
    "# Ans 9"
   ]
  },
  {
   "cell_type": "code",
   "execution_count": 10,
   "id": "e4447968",
   "metadata": {},
   "outputs": [
    {
     "name": "stdout",
     "output_type": "stream",
     "text": [
      "['THE', 'QUICK', 'BROWN', 'FOX', 'JUMPS', 'OVER', 'THE', 'LAZY', 'DOG']\n",
      "['the', 'quick', 'brown', 'fox', 'jumps', 'over', 'the', 'lazy', 'dog']\n",
      "[3, 5, 5, 3, 5, 4, 3, 4, 3]\n",
      "[['THE', 'the', 3], ['QUICK', 'quick', 5], ['BROWN', 'brown', 5], ['FOX', 'fox', 3], ['JUMPS', 'jumps', 5], ['OVER', 'over', 4], ['THE', 'the', 3], ['LAZY', 'lazy', 4], ['DOG', 'dog', 3]]\n",
      "['The', 'quick', 'brown', 'fox', 'jumps', 'over', 'the', 'lazy', 'dog']\n"
     ]
    }
   ],
   "source": [
    "words = ['The', 'quick', 'brown', 'fox', 'jumps', 'over', 'the', 'lazy', 'dog']\n",
    "print([t.upper() for t in words])\n",
    "print([t.lower() for t in words])\n",
    "print([len(t) for t in words])\n",
    "print([[t.upper(), t.lower(), len(t)]for t in words])\n",
    "print([t for t in words if len(t) >= 3])"
   ]
  },
  {
   "cell_type": "code",
   "execution_count": null,
   "id": "96a61792",
   "metadata": {},
   "outputs": [],
   "source": []
  }
 ],
 "metadata": {
  "kernelspec": {
   "display_name": "Python 3 (ipykernel)",
   "language": "python",
   "name": "python3"
  },
  "language_info": {
   "codemirror_mode": {
    "name": "ipython",
    "version": 3
   },
   "file_extension": ".py",
   "mimetype": "text/x-python",
   "name": "python",
   "nbconvert_exporter": "python",
   "pygments_lexer": "ipython3",
   "version": "3.9.12"
  }
 },
 "nbformat": 4,
 "nbformat_minor": 5
}
